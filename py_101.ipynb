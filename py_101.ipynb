{
 "cells": [
  {
   "cell_type": "markdown",
   "metadata": {},
   "source": [
    "0.1 ) Getting Diagonals from Matrix with Numpy\n"
   ]
  },
  {
   "cell_type": "code",
   "execution_count": 1,
   "metadata": {},
   "outputs": [],
   "source": [
    "matrix = [[-2,  5,  3,  2],\n",
    "          [ 9, -6,  5,  1],\n",
    "          [ 3,  2,  7,  3],\n",
    "          [-1,  8, -4,  8]]"
   ]
  },
  {
   "cell_type": "code",
   "execution_count": 2,
   "metadata": {},
   "outputs": [],
   "source": [
    "import numpy as np"
   ]
  },
  {
   "cell_type": "code",
   "execution_count": 3,
   "metadata": {},
   "outputs": [],
   "source": [
    "matrix = np.array(matrix)"
   ]
  },
  {
   "cell_type": "code",
   "execution_count": 4,
   "metadata": {
    "scrolled": true
   },
   "outputs": [
    {
     "data": {
      "text/plain": [
       "array([-2, -6,  7,  8])"
      ]
     },
     "execution_count": 4,
     "metadata": {},
     "output_type": "execute_result"
    }
   ],
   "source": [
    "matrix.diagonal()"
   ]
  },
  {
   "cell_type": "code",
   "execution_count": 5,
   "metadata": {
    "scrolled": true
   },
   "outputs": [
    {
     "data": {
      "text/plain": [
       "array([ 2,  5,  2, -1])"
      ]
     },
     "execution_count": 5,
     "metadata": {},
     "output_type": "execute_result"
    }
   ],
   "source": [
    "np.fliplr(matrix).diagonal()"
   ]
  },
  {
   "cell_type": "markdown",
   "metadata": {},
   "source": [
    "0.2) Getting Matrix Diagonals Without Numpy"
   ]
  },
  {
   "cell_type": "code",
   "execution_count": 6,
   "metadata": {},
   "outputs": [],
   "source": [
    "diag = [ row[i] for i,row in enumerate(matrix) ]"
   ]
  },
  {
   "cell_type": "code",
   "execution_count": 7,
   "metadata": {},
   "outputs": [
    {
     "data": {
      "text/plain": [
       "[-2, -6, 7, 8]"
      ]
     },
     "execution_count": 7,
     "metadata": {},
     "output_type": "execute_result"
    }
   ],
   "source": [
    "diag"
   ]
  },
  {
   "cell_type": "code",
   "execution_count": 8,
   "metadata": {},
   "outputs": [],
   "source": [
    "diag2 = [ row[-i-1] for i,row in enumerate(matrix) ]"
   ]
  },
  {
   "cell_type": "code",
   "execution_count": null,
   "metadata": {
    "scrolled": true
   },
   "outputs": [
    {
     "data": {
      "text/plain": [
       "[2, 5, 2, -1]"
      ]
     },
     "execution_count": 9,
     "metadata": {},
     "output_type": "execute_result"
    }
   ],
   "source": [
    "diag2"
   ]
  },
  {
   "cell_type": "markdown",
   "metadata": {},
   "source": [
    "1) Create a program that asks the user to enter their name and their age. Print out a message addressed to them that tells them the year that they will turn 100 years old."
   ]
  },
  {
   "cell_type": "code",
   "execution_count": null,
   "metadata": {
    "scrolled": true
   },
   "outputs": [],
   "source": [
    "name = input(\"What's your name?\" )\n",
    "age = int(input(\"What's your age?\" ))\n",
    "year_100 = (2020 - age) + 100\n",
    "print (f' Hi {name}, you will turn 100 in {year_100}')"
   ]
  },
  {
   "cell_type": "markdown",
   "metadata": {},
   "source": [
    "2) Ask the user for a number. Depending on whether the number is even or odd, print out an appropriate message to the user. Hint: how does an even / odd number react differently when divided by 2?"
   ]
  },
  {
   "cell_type": "code",
   "execution_count": null,
   "metadata": {},
   "outputs": [],
   "source": [
    "n = float(input())\n",
    "if n % 2 == 0:\n",
    "    print (f\"the number {n} is even\")\n",
    "elif n % 2 ==1:\n",
    "    print (f\"the number {n} is odd\")\n",
    "else:\n",
    "    print (\"Invalid\")"
   ]
  },
  {
   "cell_type": "markdown",
   "metadata": {},
   "source": [
    "3) Write a program that prints out all the elements of the list that are less than 5."
   ]
  },
  {
   "cell_type": "code",
   "execution_count": null,
   "metadata": {},
   "outputs": [],
   "source": [
    "a = [1, 1, 2, 3, 5, 8, 13, 21, 34, 55, 89]\n",
    "l = []\n",
    "for n in a:\n",
    "    if n < 5:\n",
    "        l.append(n)\n",
    "print (l)"
   ]
  },
  {
   "cell_type": "markdown",
   "metadata": {},
   "source": [
    "3) With list comprehension"
   ]
  },
  {
   "cell_type": "code",
   "execution_count": null,
   "metadata": {},
   "outputs": [],
   "source": [
    "print ([l for n in a if n>5])"
   ]
  },
  {
   "cell_type": "markdown",
   "metadata": {},
   "source": [
    "4) Create a program that asks the user for a number and then prints out a list of all the divisors of that number."
   ]
  },
  {
   "cell_type": "code",
   "execution_count": null,
   "metadata": {},
   "outputs": [],
   "source": [
    "n = int(input())\n",
    "list = []\n",
    "count = n\n",
    "while count > 0:\n",
    "    if n % count == 0:\n",
    "        list.append(count)\n",
    "        count -= 1\n",
    "    elif n % (count-1) ==0:\n",
    "        count -=1\n",
    "    else:\n",
    "        count-= 1\n",
    "\n",
    "print (list)\n"
   ]
  },
  {
   "cell_type": "markdown",
   "metadata": {},
   "source": [
    "5) Take two lists and write a program that returns a list that contains only the elements that are common between the lists (without duplicates). Make sure your program works on two lists of different sizes"
   ]
  },
  {
   "cell_type": "code",
   "execution_count": null,
   "metadata": {},
   "outputs": [],
   "source": [
    "a = [1, 1, 2, 3, 5, 8, 13, 21, 34, 55, 89]\n",
    "b = [1, 2, 3, 4, 5, 6, 7, 8, 9, 10, 11, 12, 13]\n",
    "list = []\n",
    "\n",
    "for n in a:\n",
    "    if n in b:\n",
    "        if n not in list:\n",
    "            list.append(n)    \n",
    "        \n",
    "\n",
    "print (list)\n",
    "        "
   ]
  },
  {
   "cell_type": "markdown",
   "metadata": {},
   "source": [
    "6) Ask the user for a string and print out whether this string is a palindrome or not."
   ]
  },
  {
   "cell_type": "code",
   "execution_count": null,
   "metadata": {},
   "outputs": [],
   "source": [
    "string = input(\"Write a word\" )\n",
    "stringrev = string[::-1]\n",
    "if string == stringrev:\n",
    "    print (\"Palindrome!\")\n",
    "else:\n",
    "    print (\"not palindrome\")\n",
    "\n",
    "\n",
    "\n"
   ]
  },
  {
   "cell_type": "markdown",
   "metadata": {},
   "source": [
    "7) Let’s say I give you a list saved in a variable: a = [1, 4, 9, 16, 25, 36, 49, 64, 81, 100]. Write one line of Python that takes this list a and makes a new list that has only the even elements of this list in it."
   ]
  },
  {
   "cell_type": "code",
   "execution_count": null,
   "metadata": {},
   "outputs": [],
   "source": [
    "a = [1, 4, 9, 16, 25, 36, 49, 64, 81, 100]\n",
    "b = [b for b in a if b % 2==0]\n",
    "b"
   ]
  },
  {
   "cell_type": "markdown",
   "metadata": {},
   "source": [
    "8) Make a two-player Rock-Paper-Scissors game. (Hint: Ask for player plays (using input), compare them, print out a message of congratulations to the winner, and ask if the players want to start a new game)"
   ]
  },
  {
   "cell_type": "code",
   "execution_count": null,
   "metadata": {},
   "outputs": [],
   "source": [
    "import sys\n",
    "\n",
    "user1 = input(\"What's your name?\")\n",
    "user2 = input(\"And your name?\")\n",
    "user1_answer = input(f\"do yo want to choose rock, paper or scissors? {user1}\")\n",
    "user2_answer = input(f\"do yo want to choose rock, paper or scissors? {user2}\")\n",
    "\n",
    "def compare(u1, u2):\n",
    "    if u1 == u2:\n",
    "        return(\"It's a tie!\")\n",
    "    elif u1 == 'rock':\n",
    "        if u2 == 'scissors':\n",
    "            return(\"Rock wins!\")\n",
    "        else:\n",
    "            return(\"Paper wins!\")\n",
    "    elif u1 == 'scissors':\n",
    "        if u2 == 'paper':\n",
    "            return(\"Scissors win!\")\n",
    "        else:\n",
    "            return(\"Rock wins!\")\n",
    "    elif u1 == 'paper':\n",
    "        if u2 == 'rock':\n",
    "            return(\"Paper wins!\")\n",
    "        else:\n",
    "            return(\"Scissors win!\")\n",
    "    else:\n",
    "        return(\"Invalid input! You have not entered rock, paper or scissors, try again.\")\n",
    "        sys.exit()\n",
    "\n",
    "print(compare(user1_answer, user2_answer))"
   ]
  },
  {
   "cell_type": "markdown",
   "metadata": {},
   "source": [
    "9) Generate a random number between 1 and 9 (including 1 and 9). Ask the user to guess the number, then tell them whether they guessed too low, too high, or exactly right"
   ]
  },
  {
   "cell_type": "code",
   "execution_count": null,
   "metadata": {},
   "outputs": [],
   "source": [
    "import random\n",
    "rand_n = random.randint(0,10)\n",
    "attempt = 0\n",
    "while user_input != rand_n:\n",
    "    user_input = float(input(\"Plase gess a number \" ))\n",
    "    if user_input > rand_n:\n",
    "        print (\"You are too high \")\n",
    "        attempt += 1\n",
    "    elif user_input < rand_n:\n",
    "        print(\"You are too low \")\n",
    "        attempt += 1\n",
    "    else:\n",
    "        print(f\"You got it in {attempt} times\")"
   ]
  },
  {
   "cell_type": "markdown",
   "metadata": {},
   "source": [
    "11) Ask the user for a number and determine whether the number is prime or not. (For those who have forgotten, a prime number is a number that has no divisors.)."
   ]
  },
  {
   "cell_type": "code",
   "execution_count": null,
   "metadata": {},
   "outputs": [],
   "source": [
    "n = int(input())\n",
    "    \n",
    "def prime(n):\n",
    "    list = []\n",
    "    count = n\n",
    "    while count > 1:\n",
    "        if n % count == 0:\n",
    "            list.append(count)\n",
    "            count -= 1\n",
    "        elif n % (count-1) ==0:\n",
    "            count -=1\n",
    "        else:\n",
    "            count-= 1\n",
    "    return sum(list)\n",
    "\n",
    "prime(n)\n",
    "\n",
    "if prime(n) == n:\n",
    "    print (f'Number {n} is a prime number!')\n"
   ]
  },
  {
   "cell_type": "markdown",
   "metadata": {},
   "source": [
    "12) Write a program that takes a list of numbers (for example, a = [5, 10, 15, 20, 25]) and makes a new list of only the first and last elements of the given list. "
   ]
  },
  {
   "cell_type": "code",
   "execution_count": null,
   "metadata": {},
   "outputs": [],
   "source": [
    "import random\n",
    "randomlist = random.sample(range(0, 30), 5)\n",
    "\n",
    "def first_last(list):\n",
    "    f_l_list = []\n",
    "    f_l_list.append(randomlist[0])\n",
    "    f_l_list.append(randomlist[-1])\n",
    "    return f_l_list\n",
    "\n",
    "print (randomlist, first_last(randomlist) )"
   ]
  },
  {
   "cell_type": "markdown",
   "metadata": {},
   "source": [
    "14) Write a program (function!) that takes a list and returns a new list that contains all the elements of the first list minus all the duplicates."
   ]
  },
  {
   "cell_type": "code",
   "execution_count": null,
   "metadata": {},
   "outputs": [],
   "source": [
    "def dedupe(x):\n",
    "  y = []\n",
    "  for i in x:\n",
    "    if i not in y:\n",
    "      y.append(i)\n",
    "  return y\n",
    "\n",
    "\n",
    "a = [1,2,3,4,3,2,1]\n",
    "print (a)\n",
    "print (dedupe(a))\n"
   ]
  },
  {
   "cell_type": "markdown",
   "metadata": {},
   "source": [
    "15) Write a program (using functions!) that asks the user for a long string containing multiple words. Print back to the user the same string, except with the words in backwards order."
   ]
  },
  {
   "cell_type": "code",
   "execution_count": null,
   "metadata": {},
   "outputs": [],
   "source": [
    "user_str = input()\n",
    "\n",
    "def backwards(s):\n",
    "    backstr = user_str.split()\n",
    "    backstr = backstr[::-1]\n",
    "    backstr = \" \".join(backstr)\n",
    "    return backstr\n",
    "\n",
    "backwards(user_str)"
   ]
  },
  {
   "cell_type": "markdown",
   "metadata": {},
   "source": [
    "16) Write a password generator in Python. Be creative with how you generate passwords - strong passwords have a mix of lowercase letters, uppercase letters, numbers, and symbols. The passwords should be random, generating a new password every time the user asks for a new password."
   ]
  },
  {
   "cell_type": "code",
   "execution_count": null,
   "metadata": {},
   "outputs": [],
   "source": [
    "import random\n",
    "\n",
    "s = \"abcdefghijklmnopqrstuvwxyz01234567890ABCDEFGHIJKLMNOPQRSTUVWXYZ!@#$%^&*()?\"\n",
    "passlen = 8\n",
    "passw =  \"\".join(random.sample(s,passlen ))\n",
    "print (passw)"
   ]
  },
  {
   "cell_type": "code",
   "execution_count": null,
   "metadata": {},
   "outputs": [],
   "source": []
  }
 ],
 "metadata": {
  "kernelspec": {
   "display_name": "Python 3",
   "language": "python",
   "name": "python3"
  },
  "language_info": {
   "codemirror_mode": {
    "name": "ipython",
    "version": 3
   },
   "file_extension": ".py",
   "mimetype": "text/x-python",
   "name": "python",
   "nbconvert_exporter": "python",
   "pygments_lexer": "ipython3",
   "version": "3.6.8"
  }
 },
 "nbformat": 4,
 "nbformat_minor": 2
}
